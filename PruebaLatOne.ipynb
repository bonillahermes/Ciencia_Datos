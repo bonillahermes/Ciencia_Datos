{
  "nbformat": 4,
  "nbformat_minor": 0,
  "metadata": {
    "colab": {
      "provenance": [],
      "authorship_tag": "ABX9TyPgHh5MhFMmCV9g4dCOreGE",
      "include_colab_link": true
    },
    "kernelspec": {
      "name": "python3",
      "display_name": "Python 3"
    },
    "language_info": {
      "name": "python"
    }
  },
  "cells": [
    {
      "cell_type": "markdown",
      "metadata": {
        "id": "view-in-github",
        "colab_type": "text"
      },
      "source": [
        "<a href=\"https://colab.research.google.com/github/bonillahermes/Ciencia_Datos/blob/main/PruebaLatOne.ipynb\" target=\"_parent\"><img src=\"https://colab.research.google.com/assets/colab-badge.svg\" alt=\"Open In Colab\"/></a>"
      ]
    },
    {
      "cell_type": "markdown",
      "source": [
        "# Ejercicio 1\n",
        "\n",
        "### Explicación del código:\n",
        "* Importar la librería random:\n",
        "> En la primera línea del código, se importa la librería random. Esta librería contiene funciones que nos permiten trabajar con números aleatorios, lo que será útil para que la máquina pueda hacer una jugada aleatoria en el juego.\n",
        "\n",
        "* Definir la función jugar():\n",
        "> En la segunda línea, se define una función llamada jugar(). En programación, una función es un bloque de código que realiza una tarea específica y puede ser llamada desde otras partes del programa. En este caso, la función jugar() será responsable de ejecutar el juego \"Piedra, papel o tijera\".\n",
        "\n",
        "* Definir las opciones del juego:\n",
        ">Se crea una lista llamada opciones con las tres posibles jugadas en el juego: \"Piedra\", \"Papel\" y \"Tijera\". Esta lista nos permitirá verificar si la jugada ingresada por el usuario es válida.\n",
        "\n",
        "* Iniciar un bucle while:\n",
        "> En la cuarta línea, se inicia un bucle while True. Un bucle es una estructura de control que permite repetir un bloque de código mientras se cumpla una condición. while True crea un bucle infinito, lo que significa que el código dentro de este bucle se ejecutará repetidamente hasta que se encuentre una instrucción para salir del bucle.\n",
        "\n",
        "* Solicitar la jugada del usuario:\n",
        "> En la quinta línea, se utiliza input() para solicitar al usuario que ingrese su jugada. input() espera a que el usuario escriba algo y presione Enter. Lo que el usuario ingrese se guarda en la variable jugada_usuario.\n",
        "\n",
        "* Convertir la jugada del usuario en mayúscula:\n",
        "> Después de obtener la jugada del usuario, en la sexta línea se utiliza el método capitalize() para convertir la primera letra en mayúscula y el resto en minúsculas. Esto es para asegurarnos de que la jugada del usuario coincida con las opciones válidas sin importar cómo la haya escrito.\n",
        "\n",
        "* Verificar si la jugada del usuario es válida:\n",
        "> En la séptima línea, se verifica si la jugada_usuario está en la lista de opciones. Si no lo está, significa que el usuario ingresó una jugada inválida. En ese caso, se muestra un mensaje de error y el bucle continuará solicitando al usuario que ingrese una jugada válida.\n",
        "\n",
        "* Jugar la jugada de la máquina:\n",
        "> Si la jugada del usuario es válida, en la novena línea se utiliza random.choice(opciones) para elegir una jugada aleatoria para la máquina. random.choice(opciones) selecciona un elemento aleatorio de la lista opciones y lo guarda en la variable jugada_computador.\n",
        "\n",
        "* Mostrar la jugada de la máquina:\n",
        "> En la décima línea, se muestra en la pantalla la jugada de la máquina utilizando print(f\"Máquina eligió: {jugada_computador}\").\n",
        "\n",
        "* Evaluar el resultado del juego:\n",
        "> Después de mostrar la jugada de la máquina, el código evalúa si hubo un empate o si el usuario o la máquina ganaron el juego, según las reglas del juego \"Piedra, papel o tijera\".\n",
        "\n",
        "* Mostrar el resultado del juego:\n",
        "> En la línea 17, se muestra en la pantalla el resultado del juego utilizando print(f\"Resultado: {resultado}\").\n",
        "\n",
        "* Salir del bucle:\n",
        "> Finalmente, se utiliza break en la línea 18 para salir del bucle while infinito, lo que significa que el juego ha terminado."
      ],
      "metadata": {
        "id": "YF3but7XI2D6"
      }
    },
    {
      "cell_type": "code",
      "execution_count": 10,
      "metadata": {
        "colab": {
          "base_uri": "https://localhost:8080/"
        },
        "id": "m9ZxlQ6CIyQG",
        "outputId": "c3131a26-04c8-4c30-820f-7237597731d5"
      },
      "outputs": [
        {
          "output_type": "stream",
          "name": "stdout",
          "text": [
            "Ingresa tu jugada (Piedra, Papel o Tijera): papas\n",
            "Jugada inválida. Debes ingresar una de las siguientes opciones: Piedra, Papel, Tijera\n",
            "Ingresa tu jugada (Piedra, Papel o Tijera): piedra\n",
            "Máquina eligió: Tijera\n",
            "Resultado: Gana usuario\n"
          ]
        }
      ],
      "source": [
        "import random\n",
        "\n",
        "def jugar():\n",
        "    opciones = [\"Piedra\", \"Papel\", \"Tijera\"]\n",
        "\n",
        "    while True:\n",
        "        jugada_usuario = input(\"Ingresa tu jugada (Piedra, Papel o Tijera): \").capitalize()\n",
        "\n",
        "        if jugada_usuario not in opciones:\n",
        "            print(\"Jugada inválida. Debes ingresar una de las siguientes opciones: Piedra, Papel, Tijera\")\n",
        "        else:\n",
        "            jugada_computador = random.choice(opciones)\n",
        "            print(f\"Máquina eligió: {jugada_computador}\")\n",
        "\n",
        "            if jugada_usuario == jugada_computador:\n",
        "                resultado = \"Empate\"\n",
        "            elif (jugada_usuario == \"Piedra\" and jugada_computador == \"Tijera\") or \\\n",
        "                 (jugada_usuario == \"Papel\" and jugada_computador == \"Piedra\") or \\\n",
        "                 (jugada_usuario == \"Tijera\" and jugada_computador == \"Papel\"):\n",
        "                resultado = \"Gana usuario\"\n",
        "            else:\n",
        "                resultado = \"Gana pc\"\n",
        "\n",
        "            print(f\"Resultado: {resultado}\")\n",
        "            break\n",
        "\n",
        "jugar()"
      ]
    },
    {
      "cell_type": "markdown",
      "source": [
        "# Ejercicio 2\n",
        "\n",
        "En primer lugar, creamos un data frame como se muestra a continuación:"
      ],
      "metadata": {
        "id": "1qb17cfhMV30"
      }
    },
    {
      "cell_type": "code",
      "source": [
        "import pandas as pd\n",
        "import random\n",
        "from datetime import timedelta\n",
        "\n",
        "# Establecer la semilla para obtener resultados consistentes\n",
        "random.seed(123)\n",
        "\n",
        "# Datos para el DataFrame\n",
        "data = {\n",
        "    'ID': [1, 2, 3, 1, 4, 5, 6, 2, 7, 8],\n",
        "    'Nombre': ['Juan', 'María', 'Luis', 'Juan[+]', 'Ana', 'Pedro', 'Luis[+]', 'María[+]', 'Carlos', 'Sofía'],\n",
        "    'Edad': [25, 31, 22, 25, 28, 24, 22, 31, 27, 29],\n",
        "    'Ciudad': ['Madrid', 'Barcelona', 'Sevilla', 'Valencia', 'Madrid', 'Barcelona', 'Sevilla', 'Valencia', 'Madrid', 'Barcelona']\n",
        "}\n",
        "\n",
        "# Generar fechas aleatorias\n",
        "fecha_inicio = pd.to_datetime('2022-01-01')  # Fecha de inicio\n",
        "fecha_fin = pd.to_datetime('2022-12-31')    # Fecha de fin\n",
        "num_filas = len(data['ID'])\n",
        "fechas_aleatorias = [fecha_inicio + timedelta(days=random.randint(0, (fecha_fin - fecha_inicio).days)) for _ in range(num_filas)]\n",
        "\n",
        "# Agregar la columna de fechas\n",
        "data['Fecha'] = fechas_aleatorias\n",
        "\n",
        "# Crear el DataFrame\n",
        "df = pd.DataFrame(data)\n",
        "\n",
        "# Guardar el DataFrame en un archivo CSV\n",
        "df.to_csv('datos.csv', index=False)\n",
        "\n",
        "# Resultados\n",
        "print(df)\n",
        "\n"
      ],
      "metadata": {
        "colab": {
          "base_uri": "https://localhost:8080/"
        },
        "id": "xWijjYzAOjxL",
        "outputId": "62e1e5fc-f1ef-48a1-da39-73947a93fa9b"
      },
      "execution_count": 17,
      "outputs": [
        {
          "output_type": "stream",
          "name": "stdout",
          "text": [
            "   ID    Nombre  Edad     Ciudad      Fecha\n",
            "0   1      Juan    25     Madrid 2022-01-27\n",
            "1   2     María    31  Barcelona 2022-05-18\n",
            "2   3      Luis    22    Sevilla 2022-02-14\n",
            "3   1   Juan[+]    25   Valencia 2022-07-28\n",
            "4   4       Ana    28     Madrid 2022-05-17\n",
            "5   5     Pedro    24  Barcelona 2022-02-25\n",
            "6   6   Luis[+]    22    Sevilla 2022-01-20\n",
            "7   2  María[+]    31   Valencia 2022-07-14\n",
            "8   7    Carlos    27     Madrid 2022-10-02\n",
            "9   8     Sofía    29  Barcelona 2022-10-15\n"
          ]
        }
      ]
    },
    {
      "cell_type": "markdown",
      "source": [
        "\n",
        "1. Importamos la biblioteca pandas con el alias \"pd\". Pandas es una biblioteca de Python utilizada para manipular y analizar datos.\n",
        "\n",
        "2. Importamos las bibliotecas random y timedelta. \"random\" se utiliza para generar números aleatorios, y \"timedelta\" para manejar operaciones con fechas y horas.\n",
        "\n",
        "3. Establecemos una semilla utilizando `random.seed(123)`. La semilla garantiza que los resultados aleatorios generados sean consistentes, lo que significa que obtendremos los mismos resultados cada vez que ejecutemos el código.\n",
        "\n",
        "4. Definimos un diccionario llamado \"data\" que contiene información para crear un DataFrame.\n",
        "\n",
        "5. Generamos fechas aleatorias entre '2022-01-01' y '2022-12-31' utilizando un bucle `for` y la función `random.randint()`. Estas fechas aleatorias se almacenan en una lista llamada \"fechas_aleatorias\".\n",
        "\n",
        "6. Agregamos la lista \"fechas_aleatorias\" como una nueva columna llamada \"Fecha\" en el diccionario \"data\".\n",
        "\n",
        "7. Creamos un DataFrame llamado \"df\" a partir del diccionario \"data\". Ahora tenemos todos los datos organizados en un formato tabular.\n",
        "\n",
        "8. Guardamos el DataFrame \"df\" en un archivo CSV llamado \"datos.csv\" utilizando la función `to_csv()`. El parámetro `index=False` evita que se guarde el índice del DataFrame en el archivo CSV.\n",
        "\n",
        "9. Imprimimos el DataFrame \"df\" para mostrar los resultados en la consola. El DataFrame se mostrará con todas las columnas: ID, Nombre, Edad, Ciudad y Fecha.\n",
        "\n",
        "Ahora, aplicamos los cambios del ejercicio:"
      ],
      "metadata": {
        "id": "WqBSYrLnTGXD"
      }
    },
    {
      "cell_type": "code",
      "source": [
        "import pandas as pd\n",
        "\n",
        "# Cargar el archivo CSV en un DataFrame\n",
        "df = pd.read_csv(\"datos.csv\")\n",
        "\n",
        "# Eliminar datos duplicados dejando la última actualización\n",
        "df = df.drop_duplicates(subset='ID', keep='last')\n",
        "\n",
        "# Eliminar caracter [+] en la columna 'Nombre'\n",
        "df['Nombre'] = df['Nombre'].str.replace('[+]', '', regex=False)\n",
        "\n",
        "# Ordenar el DataFrame de menor a mayor respecto al ID\n",
        "df = df.sort_values(by='ID')\n",
        "\n",
        "# Resultados\n",
        "print(df)"
      ],
      "metadata": {
        "colab": {
          "base_uri": "https://localhost:8080/"
        },
        "id": "94mI86uAO947",
        "outputId": "d1baaaaf-738f-4aa1-e351-a79eb26eb166"
      },
      "execution_count": 21,
      "outputs": [
        {
          "output_type": "stream",
          "name": "stdout",
          "text": [
            "   ID  Nombre  Edad     Ciudad       Fecha\n",
            "3   1    Juan    25   Valencia  2022-07-28\n",
            "7   2   María    31   Valencia  2022-07-14\n",
            "2   3    Luis    22    Sevilla  2022-02-14\n",
            "4   4     Ana    28     Madrid  2022-05-17\n",
            "5   5   Pedro    24  Barcelona  2022-02-25\n",
            "6   6    Luis    22    Sevilla  2022-01-20\n",
            "8   7  Carlos    27     Madrid  2022-10-02\n",
            "9   8   Sofía    29  Barcelona  2022-10-15\n"
          ]
        }
      ]
    },
    {
      "cell_type": "markdown",
      "source": [
        "1. Importamos la biblioteca pandas con el alias \"pd\", que nos permite manipular y analizar datos en forma de DataFrames.\n",
        "\n",
        "2. Cargamos el archivo CSV llamado \"datos.csv\" en un DataFrame llamado \"df\" utilizando la función `read_csv()` de pandas.\n",
        "\n",
        "3. Eliminamos los datos duplicados del DataFrame \"df\" utilizando la función `drop_duplicates()`. Esta función se utiliza para eliminar filas duplicadas basándose en una columna específica. En este caso, especificamos que queremos eliminar duplicados basados en la columna 'ID' y que queremos mantener la última actualización de cada fila. Esto significa que si hay filas con el mismo valor en la columna 'ID', se eliminarán todas excepto la última aparición.\n",
        "\n",
        "4. Eliminamos el caracter `[+]` en la columna 'Nombre' utilizando la función `str.replace()`. Esta función se utiliza para reemplazar parte de una cadena con otra. En este caso, reemplazamos el caracter `[+]` por una cadena vacía `''`, lo que significa que eliminamos el caracter `[+]` de todas las filas en la columna 'Nombre'. El parámetro `regex=False` indica que no queremos interpretar el patrón de búsqueda como una expresión regular.\n",
        "\n",
        "5. Ordenamos el DataFrame \"df\" de menor a mayor respecto al valor de la columna 'ID' utilizando la función `sort_values()`. Esto significa que las filas se organizarán en orden ascendente según los valores de la columna 'ID'.\n",
        "\n",
        "6. Imprimimos el DataFrame \"df\" para mostrar los resultados en la consola."
      ],
      "metadata": {
        "id": "k5IlCOX8UI6q"
      }
    },
    {
      "cell_type": "markdown",
      "source": [
        "# Conclusiones\n",
        "\n",
        "Las diferencias que se pueden observar entre los dos DataFrames son las siguientes:\n",
        "\n",
        "1. En el primer DataFrame, hay dos filas con el ID 1 y dos filas con el ID 2, mientras que en el segundo DataFrame, solo hay una fila por cada ID, correspondiente a la última actualización.\n",
        "\n",
        "2. En el primer DataFrame, hay filas con los nombres \"Juan\" y \"Juan[+]\", mientras que en el segundo DataFrame, todos los nombres se presentan sin el caracter `[+]`.\n"
      ],
      "metadata": {
        "id": "q0DrZUqkUmKh"
      }
    }
  ]
}
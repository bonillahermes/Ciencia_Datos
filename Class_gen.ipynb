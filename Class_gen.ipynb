{
  "nbformat": 4,
  "nbformat_minor": 0,
  "metadata": {
    "colab": {
      "provenance": [],
      "authorship_tag": "ABX9TyODhbVIch4X6PHSuu+fkzCu",
      "include_colab_link": true
    },
    "kernelspec": {
      "name": "python3",
      "display_name": "Python 3"
    },
    "language_info": {
      "name": "python"
    }
  },
  "cells": [
    {
      "cell_type": "markdown",
      "metadata": {
        "id": "view-in-github",
        "colab_type": "text"
      },
      "source": [
        "<a href=\"https://colab.research.google.com/github/bonillahermes/Ciencia_Datos/blob/main/Class_gen.ipynb\" target=\"_parent\"><img src=\"https://colab.research.google.com/assets/colab-badge.svg\" alt=\"Open In Colab\"/></a>"
      ]
    },
    {
      "cell_type": "code",
      "execution_count": null,
      "metadata": {
        "id": "1w5EmyJewmRa"
      },
      "outputs": [],
      "source": [
        "Cargar conjunto de datos"
      ]
    },
    {
      "cell_type": "code",
      "source": [
        "# Ruta al archivo Excel\n",
        "ruta_archivo = 'C:/Users/William Díaz/Documents/EntreNombres.xlsx'\n",
        "\n",
        "# Cargar el archivo Excel en un DataFrame de pandas\n",
        "\n",
        "datos = pd.read_excel(ruta_archivo)\n",
        "\n",
        "print(datos.head())"
      ],
      "metadata": {
        "id": "3PpooImTwyxp"
      },
      "execution_count": null,
      "outputs": []
    },
    {
      "cell_type": "markdown",
      "source": [
        "Dividir los datos en conjunto de entrenamiento y prueba"
      ],
      "metadata": {
        "id": "DQSxfWghw5EA"
      }
    },
    {
      "cell_type": "code",
      "source": [
        "datos_entrenamiento, datos_prueba = train_test_split(datos, test_size=0.2, random_state=123)"
      ],
      "metadata": {
        "id": "dIuTFAMlw-5v"
      },
      "execution_count": null,
      "outputs": []
    },
    {
      "cell_type": "markdown",
      "source": [
        "Crear Características"
      ],
      "metadata": {
        "id": "FBcDrl4exCbU"
      }
    },
    {
      "cell_type": "code",
      "source": [
        "# Extraer características de los nombres utilizando CountVectorizer\n",
        "vectorizer = CountVectorizer(analyzer='char', ngram_range=(1, 2))\n",
        "X_entrenamiento = vectorizer.fit_transform(datos_entrenamiento['nombre'])\n",
        "X_prueba = vectorizer.transform(datos_prueba['nombre'])"
      ],
      "metadata": {
        "id": "ezt44zDXxFzx"
      },
      "execution_count": null,
      "outputs": []
    },
    {
      "cell_type": "markdown",
      "source": [
        "Obtener el vector de etiquetas"
      ],
      "metadata": {
        "id": "47hRm7lkxKzp"
      }
    },
    {
      "cell_type": "code",
      "source": [
        "y_entrenamiento = datos_entrenamiento['genero']\n",
        "y_prueba = datos_prueba['genero']"
      ],
      "metadata": {
        "id": "9h63CYBUxP3R"
      },
      "execution_count": null,
      "outputs": []
    },
    {
      "cell_type": "markdown",
      "source": [
        "Entrenar el modelo"
      ],
      "metadata": {
        "id": "ibtvtTlBxUEG"
      }
    },
    {
      "cell_type": "code",
      "source": [
        "modelo = LogisticRegression()\n",
        "modelo.fit(X_entrenamiento, y_entrenamiento)"
      ],
      "metadata": {
        "id": "a4ud95ewxX7f"
      },
      "execution_count": null,
      "outputs": []
    },
    {
      "cell_type": "markdown",
      "source": [
        "Cargar la nueva base"
      ],
      "metadata": {
        "id": "-DGyrAPQxceJ"
      }
    },
    {
      "cell_type": "code",
      "source": [
        "# Cargar la nueva base de datos\n",
        "ruta_archivo1 = 'C:/Users/William Díaz/Documents/asambleas.xlsx'\n",
        "\n",
        "# Cargar el archivo Excel en un DataFrame de pandas\n",
        "nuevos_datos = pd.read_excel(ruta_archivo1)\n",
        "\n",
        "print(nuevos_datos.head())"
      ],
      "metadata": {
        "id": "BkvHxBAVxjT0"
      },
      "execution_count": null,
      "outputs": []
    },
    {
      "cell_type": "markdown",
      "source": [
        "Predicciones"
      ],
      "metadata": {
        "id": "4HPgrUw1xpSF"
      }
    },
    {
      "cell_type": "code",
      "source": [
        "nombres_nuevos = nuevos_datos['nombre'].values\n",
        "X_nuevos = vectorizer.transform(nombres_nuevos)\n",
        "predicciones = modelo.predict(X_nuevos)"
      ],
      "metadata": {
        "id": "CS2ZIZx4xz-n"
      },
      "execution_count": null,
      "outputs": []
    },
    {
      "cell_type": "markdown",
      "source": [
        "Guardar salida en csv"
      ],
      "metadata": {
        "id": "Y6kR7hSVx16j"
      }
    },
    {
      "cell_type": "code",
      "source": [
        "nuevos_datos['genero_predicho'] = predicciones\n",
        "\n",
        "# Guardar los resultados en un nuevo archivo CSV\n",
        "nuevos_datos.to_csv(\"nuevos_datos_predichos.csv\", index=False)\n",
        "print(nuevos_datos.head())"
      ],
      "metadata": {
        "id": "PlIGM6a9x4op"
      },
      "execution_count": null,
      "outputs": []
    },
    {
      "cell_type": "markdown",
      "source": [],
      "metadata": {
        "id": "_-KIp8bNwqur"
      }
    }
  ]
}